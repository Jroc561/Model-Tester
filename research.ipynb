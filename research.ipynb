{
 "cells": [
  {
   "cell_type": "code",
   "execution_count": 1,
   "metadata": {},
   "outputs": [],
   "source": [
    "# import dependencies\n",
    "import os\n",
    "import glob\n",
    "import pandas as pd\n",
    "import numpy as np\n",
    "import itertools\n",
    "import category_encoders as ce\n",
    "import json\n",
    "\n",
    "import matplotlib.pyplot as plt\n",
    "import matplotlib.gridspec as gs\n",
    "import seaborn as sns\n",
    "\n",
    "import xgboost as xgb\n",
    "from sklearn.pipeline import Pipeline\n",
    "from sklearn.model_selection import GridSearchCV\n",
    "from sklearn.model_selection import RandomizedSearchCV, train_test_split, cross_val_score\n",
    "from sklearn.ensemble import RandomForestRegressor\n",
    "from sklearn.linear_model import LinearRegression\n",
    "from sklearn.preprocessing import OneHotEncoder\n",
    "from sklearn.feature_extraction.text import CountVectorizer\n",
    "from sklearn.preprocessing import LabelEncoder\n",
    "from sklearn import preprocessing\n",
    "from sklearn.preprocessing import MultiLabelBinarizer\n",
    "from sklearn.metrics import mean_absolute_error\n",
    "from sklearn.pipeline import make_pipeline\n",
    "from sklearn.preprocessing import StandardScaler\n",
    "\n",
    "# Importing Eland and low-level Elasticsearch clients for comparison\n",
    "import eland as ed\n",
    "from eland.conftest import *\n",
    "from elasticsearch import Elasticsearch\n",
    "from elasticsearch_dsl import Search, Q"
   ]
  },
  {
   "source": [
    "\"\"\"\n",
    "df['accessories'] = [str(x).split(\" \") for x in df['accessories']]\n",
    "attributes = df['accessories'].explode().unique() \n",
    "attributes\"\"\""
   ],
   "cell_type": "code",
   "metadata": {},
   "execution_count": null,
   "outputs": []
  },
  {
   "cell_type": "code",
   "execution_count": 170,
   "metadata": {},
   "outputs": [],
   "source": [
    "#df1.to_csv('flask-backend/data/cryptopunks_ohe.csv')"
   ]
  },
  {
   "cell_type": "code",
   "execution_count": 2,
   "metadata": {},
   "outputs": [],
   "source": [
    "\"\"\"\n",
    "os.chdir(\"flask-backend/data/sales\")\n",
    "\n",
    "extension = 'csv'\n",
    "all_filenames = [i for i in glob.glob('*.{}'.format(extension))]\n",
    "\n",
    "#combine all files in the list\n",
    "combined_csv = pd.concat([pd.read_csv(f) for f in all_filenames ])\n",
    "#export to csv\n",
    "combined_csv.to_csv(\"punks_sales.csv\", index=False, encoding='utf-8-sig')\"\"\""
   ]
  },
  {
   "cell_type": "code",
   "execution_count": 167,
   "metadata": {},
   "outputs": [],
   "source": [
    "\"\"\"\n",
    "mlb = MultiLabelBinarizer(sparse_output=True)\n",
    "\n",
    "df = df.join(\n",
    "            pd.DataFrame.sparse.from_spmatrix(\n",
    "                mlb.fit_transform(df.pop('accessories')),\n",
    "                index=df.index,\n",
    "                columns=mlb.classes_))\"\"\""
   ]
  },
  {
   "cell_type": "code",
   "execution_count": 5,
   "metadata": {},
   "outputs": [
    {
     "output_type": "display_data",
     "data": {
      "text/plain": "<Figure size 504x72 with 1 Axes>",
      "image/svg+xml": "<?xml version=\"1.0\" encoding=\"utf-8\" standalone=\"no\"?>\r\n<!DOCTYPE svg PUBLIC \"-//W3C//DTD SVG 1.1//EN\"\r\n  \"http://www.w3.org/Graphics/SVG/1.1/DTD/svg11.dtd\">\r\n<!-- Created with matplotlib (https://matplotlib.org/) -->\r\n<svg height=\"72.26pt\" version=\"1.1\" viewBox=\"0 0 408.5 72.26\" width=\"408.5pt\" xmlns=\"http://www.w3.org/2000/svg\" xmlns:xlink=\"http://www.w3.org/1999/xlink\">\r\n <metadata>\r\n  <rdf:RDF xmlns:cc=\"http://creativecommons.org/ns#\" xmlns:dc=\"http://purl.org/dc/elements/1.1/\" xmlns:rdf=\"http://www.w3.org/1999/02/22-rdf-syntax-ns#\">\r\n   <cc:Work>\r\n    <dc:type rdf:resource=\"http://purl.org/dc/dcmitype/StillImage\"/>\r\n    <dc:date>2021-04-15T09:28:20.361000</dc:date>\r\n    <dc:format>image/svg+xml</dc:format>\r\n    <dc:creator>\r\n     <cc:Agent>\r\n      <dc:title>Matplotlib v3.3.3, https://matplotlib.org/</dc:title>\r\n     </cc:Agent>\r\n    </dc:creator>\r\n   </cc:Work>\r\n  </rdf:RDF>\r\n </metadata>\r\n <defs>\r\n  <style type=\"text/css\">*{stroke-linecap:butt;stroke-linejoin:round;}</style>\r\n </defs>\r\n <g id=\"figure_1\">\r\n  <g id=\"patch_1\">\r\n   <path d=\"M 0 72.26 \r\nL 408.5 72.26 \r\nL 408.5 0 \r\nL 0 0 \r\nz\r\n\" style=\"fill:none;\"/>\r\n  </g>\r\n  <g id=\"axes_1\">\r\n   <g id=\"patch_2\">\r\n    <path d=\"M 10.7 61.56 \r\nL 401.3 61.56 \r\nL 401.3 7.2 \r\nL 10.7 7.2 \r\nz\r\n\" style=\"fill:#ffffff;\"/>\r\n   </g>\r\n   <g clip-path=\"url(#p1e9da9d31d)\">\r\n    <image height=\"55\" id=\"image5502a16c9e\" transform=\"scale(1 -1)translate(0 -55)\" width=\"391\" x=\"10.7\" xlink:href=\"data:image/png;base64,\r\niVBORw0KGgoAAAANSUhEUgAAAYcAAAA3CAYAAADno4a/AAABCUlEQVR4nO3VsQ2BUQCFUSQ2UKss8I8gsaNBjGERhUojNAzw1S9P5JwJ7q2+9et4+qz+2Hu5zZ4w1PbwmD1hqPWyzJ4wzPm5nz1hqMv9v//trtvZE4bazB4AwO8RBwBCHAAIcQAgxAGAEAcAQhwACHEAIMQBgBAHAEIcAAhxACDEAYAQBwBCHAAIcQAgxAGAEAcAQhwACHEAIMQBgBAHAEIcAAhxACDEAYAQBwBCHAAIcQAgxAGAEAcAQhwACHEAIMQBgBAHAEIcAAhxACDEAYAQBwBCHAAIcQAgxAGAEAcAQhwACHEAIMQBgBAHAEIcAAhxACDEAYAQBwBCHAAIcQAgxAGAEAcA4gtEiwrJIN1iVAAAAABJRU5ErkJggg==\" y=\"-6.56\"/>\r\n   </g>\r\n   <g id=\"matplotlib.axis_1\">\r\n    <g id=\"xtick_1\">\r\n     <g id=\"line2d_1\">\r\n      <defs>\r\n       <path d=\"M 0 0 \r\nL 0 3.5 \r\n\" id=\"md4cdb9c2eb\" style=\"stroke:#000000;stroke-width:0.8;\"/>\r\n      </defs>\r\n      <g>\r\n       <use style=\"stroke:#000000;stroke-width:0.8;\" x=\"10.7\" xlink:href=\"#md4cdb9c2eb\" y=\"61.56\"/>\r\n      </g>\r\n     </g>\r\n    </g>\r\n    <g id=\"xtick_2\">\r\n     <g id=\"line2d_2\">\r\n      <g>\r\n       <use style=\"stroke:#000000;stroke-width:0.8;\" x=\"66.5\" xlink:href=\"#md4cdb9c2eb\" y=\"61.56\"/>\r\n      </g>\r\n     </g>\r\n    </g>\r\n    <g id=\"xtick_3\">\r\n     <g id=\"line2d_3\">\r\n      <g>\r\n       <use style=\"stroke:#000000;stroke-width:0.8;\" x=\"122.3\" xlink:href=\"#md4cdb9c2eb\" y=\"61.56\"/>\r\n      </g>\r\n     </g>\r\n    </g>\r\n    <g id=\"xtick_4\">\r\n     <g id=\"line2d_4\">\r\n      <g>\r\n       <use style=\"stroke:#000000;stroke-width:0.8;\" x=\"178.1\" xlink:href=\"#md4cdb9c2eb\" y=\"61.56\"/>\r\n      </g>\r\n     </g>\r\n    </g>\r\n    <g id=\"xtick_5\">\r\n     <g id=\"line2d_5\">\r\n      <g>\r\n       <use style=\"stroke:#000000;stroke-width:0.8;\" x=\"233.9\" xlink:href=\"#md4cdb9c2eb\" y=\"61.56\"/>\r\n      </g>\r\n     </g>\r\n    </g>\r\n    <g id=\"xtick_6\">\r\n     <g id=\"line2d_6\">\r\n      <g>\r\n       <use style=\"stroke:#000000;stroke-width:0.8;\" x=\"289.7\" xlink:href=\"#md4cdb9c2eb\" y=\"61.56\"/>\r\n      </g>\r\n     </g>\r\n    </g>\r\n    <g id=\"xtick_7\">\r\n     <g id=\"line2d_7\">\r\n      <g>\r\n       <use style=\"stroke:#000000;stroke-width:0.8;\" x=\"345.5\" xlink:href=\"#md4cdb9c2eb\" y=\"61.56\"/>\r\n      </g>\r\n     </g>\r\n    </g>\r\n   </g>\r\n   <g id=\"matplotlib.axis_2\">\r\n    <g id=\"ytick_1\">\r\n     <g id=\"line2d_8\">\r\n      <defs>\r\n       <path d=\"M 0 0 \r\nL -3.5 0 \r\n\" id=\"m62c22fe150\" style=\"stroke:#000000;stroke-width:0.8;\"/>\r\n      </defs>\r\n      <g>\r\n       <use style=\"stroke:#000000;stroke-width:0.8;\" x=\"10.7\" xlink:href=\"#m62c22fe150\" y=\"7.2\"/>\r\n      </g>\r\n     </g>\r\n    </g>\r\n    <g id=\"ytick_2\">\r\n     <g id=\"line2d_9\">\r\n      <g>\r\n       <use style=\"stroke:#000000;stroke-width:0.8;\" x=\"10.7\" xlink:href=\"#m62c22fe150\" y=\"61.56\"/>\r\n      </g>\r\n     </g>\r\n    </g>\r\n   </g>\r\n   <g id=\"patch_3\">\r\n    <path d=\"M 10.7 61.56 \r\nL 10.7 7.2 \r\n\" style=\"fill:none;stroke:#000000;stroke-linecap:square;stroke-linejoin:miter;stroke-width:0.8;\"/>\r\n   </g>\r\n   <g id=\"patch_4\">\r\n    <path d=\"M 401.3 61.56 \r\nL 401.3 7.2 \r\n\" style=\"fill:none;stroke:#000000;stroke-linecap:square;stroke-linejoin:miter;stroke-width:0.8;\"/>\r\n   </g>\r\n   <g id=\"patch_5\">\r\n    <path d=\"M 10.7 61.56 \r\nL 401.3 61.56 \r\n\" style=\"fill:none;stroke:#000000;stroke-linecap:square;stroke-linejoin:miter;stroke-width:0.8;\"/>\r\n   </g>\r\n   <g id=\"patch_6\">\r\n    <path d=\"M 10.7 7.2 \r\nL 401.3 7.2 \r\n\" style=\"fill:none;stroke:#000000;stroke-linecap:square;stroke-linejoin:miter;stroke-width:0.8;\"/>\r\n   </g>\r\n  </g>\r\n </g>\r\n <defs>\r\n  <clipPath id=\"p1e9da9d31d\">\r\n   <rect height=\"54.36\" width=\"390.6\" x=\"10.7\" y=\"7.2\"/>\r\n  </clipPath>\r\n </defs>\r\n</svg>\r\n",
      "image/png": "[encoded data removed]"
     },
     "metadata": {
      "needs_background": "light"
     }
    }
   ],
   "source": [
    "#Colors to be used in the plots\n",
    "color = [\"#f94144\",\"#f3722c\",\"#f8961e\",\"#f9c74f\",\"#90be6d\",\"#43aa8b\",\"#577590\"]\n",
    "sns.palplot(color)"
   ]
  },
  {
   "cell_type": "code",
   "execution_count": 2,
   "metadata": {},
   "outputs": [
    {
     "output_type": "execute_result",
     "data": {
      "text/plain": [
       "         type   count                                        accessories\n",
       "id                                                                      \n",
       "0      Female       3            Green Eye Shadow / Earring / Blonde Bob\n",
       "1        Male       2                                     Smile / Mohawk\n",
       "2      Female       1                                          Wild Hair\n",
       "3        Male       3                    Wild Hair / Nerd Glasses / Pipe\n",
       "4        Male       4            Big Shades / Wild Hair / Earring / Goat\n",
       "...       ...     ...                                                ...\n",
       "9995   Female       2             Purple Eye Shadow / Straight Hair Dark\n",
       "9996     Male       4           Cigarette / Earring / Crazy Hair / Smile\n",
       "9997   Zombie       2                          Front Beard / Cap Forward\n",
       "9998   Female       3   Wild White Hair / Black Lipstick / Clown Eyes...\n",
       "9999   Female       2                              Mohawk / Nerd Glasses\n",
       "\n",
       "[10000 rows x 3 columns]"
      ],
      "text/html": "<div>\n<style scoped>\n    .dataframe tbody tr th:only-of-type {\n        vertical-align: middle;\n    }\n\n    .dataframe tbody tr th {\n        vertical-align: top;\n    }\n\n    .dataframe thead th {\n        text-align: right;\n    }\n</style>\n<table border=\"1\" class=\"dataframe\">\n  <thead>\n    <tr style=\"text-align: right;\">\n      <th></th>\n      <th>type</th>\n      <th>count</th>\n      <th>accessories</th>\n    </tr>\n    <tr>\n      <th>id</th>\n      <th></th>\n      <th></th>\n      <th></th>\n    </tr>\n  </thead>\n  <tbody>\n    <tr>\n      <th>0</th>\n      <td>Female</td>\n      <td>3</td>\n      <td>Green Eye Shadow / Earring / Blonde Bob</td>\n    </tr>\n    <tr>\n      <th>1</th>\n      <td>Male</td>\n      <td>2</td>\n      <td>Smile / Mohawk</td>\n    </tr>\n    <tr>\n      <th>2</th>\n      <td>Female</td>\n      <td>1</td>\n      <td>Wild Hair</td>\n    </tr>\n    <tr>\n      <th>3</th>\n      <td>Male</td>\n      <td>3</td>\n      <td>Wild Hair / Nerd Glasses / Pipe</td>\n    </tr>\n    <tr>\n      <th>4</th>\n      <td>Male</td>\n      <td>4</td>\n      <td>Big Shades / Wild Hair / Earring / Goat</td>\n    </tr>\n    <tr>\n      <th>...</th>\n      <td>...</td>\n      <td>...</td>\n      <td>...</td>\n    </tr>\n    <tr>\n      <th>9995</th>\n      <td>Female</td>\n      <td>2</td>\n      <td>Purple Eye Shadow / Straight Hair Dark</td>\n    </tr>\n    <tr>\n      <th>9996</th>\n      <td>Male</td>\n      <td>4</td>\n      <td>Cigarette / Earring / Crazy Hair / Smile</td>\n    </tr>\n    <tr>\n      <th>9997</th>\n      <td>Zombie</td>\n      <td>2</td>\n      <td>Front Beard / Cap Forward</td>\n    </tr>\n    <tr>\n      <th>9998</th>\n      <td>Female</td>\n      <td>3</td>\n      <td>Wild White Hair / Black Lipstick / Clown Eyes...</td>\n    </tr>\n    <tr>\n      <th>9999</th>\n      <td>Female</td>\n      <td>2</td>\n      <td>Mohawk / Nerd Glasses</td>\n    </tr>\n  </tbody>\n</table>\n<p>10000 rows × 3 columns</p>\n</div>"
     },
     "metadata": {},
     "execution_count": 2
    }
   ],
   "source": [
    "punk_id = pd.read_csv(\"flask-backend/data/id/punks_id.csv\", index_col='id')\n",
    "punk_id"
   ]
  },
  {
   "cell_type": "code",
   "execution_count": 3,
   "metadata": {},
   "outputs": [
    {
     "output_type": "execute_result",
     "data": {
      "text/plain": [
       "        id  Alien  ...  Wild_White_Hair  None\n",
       "0        0      0  ...                0     0\n",
       "1        1      0  ...                0     0\n",
       "2        2      0  ...                0     0\n",
       "3        3      0  ...                0     0\n",
       "4        4      0  ...                0     0\n",
       "...    ...    ...  ...              ...   ...\n",
       "9995  9995      0  ...                0     0\n",
       "9996  9996      0  ...                0     0\n",
       "9997  9997      0  ...                0     0\n",
       "9998  9998      0  ...                1     0\n",
       "9999  9999      0  ...                0     0\n",
       "\n",
       "[10000 rows x 94 columns]"
      ],
      "text/html": "<div>\n<style scoped>\n    .dataframe tbody tr th:only-of-type {\n        vertical-align: middle;\n    }\n\n    .dataframe tbody tr th {\n        vertical-align: top;\n    }\n\n    .dataframe thead th {\n        text-align: right;\n    }\n</style>\n<table border=\"1\" class=\"dataframe\">\n  <thead>\n    <tr style=\"text-align: right;\">\n      <th></th>\n      <th>id</th>\n      <th>Alien</th>\n      <th>...</th>\n      <th>Wild_White_Hair</th>\n      <th>None</th>\n    </tr>\n  </thead>\n  <tbody>\n    <tr>\n      <th>0</th>\n      <td>0</td>\n      <td>0</td>\n      <td>...</td>\n      <td>0</td>\n      <td>0</td>\n    </tr>\n    <tr>\n      <th>1</th>\n      <td>1</td>\n      <td>0</td>\n      <td>...</td>\n      <td>0</td>\n      <td>0</td>\n    </tr>\n    <tr>\n      <th>2</th>\n      <td>2</td>\n      <td>0</td>\n      <td>...</td>\n      <td>0</td>\n      <td>0</td>\n    </tr>\n    <tr>\n      <th>3</th>\n      <td>3</td>\n      <td>0</td>\n      <td>...</td>\n      <td>0</td>\n      <td>0</td>\n    </tr>\n    <tr>\n      <th>4</th>\n      <td>4</td>\n      <td>0</td>\n      <td>...</td>\n      <td>0</td>\n      <td>0</td>\n    </tr>\n    <tr>\n      <th>...</th>\n      <td>...</td>\n      <td>...</td>\n      <td>...</td>\n      <td>...</td>\n      <td>...</td>\n    </tr>\n    <tr>\n      <th>9995</th>\n      <td>9995</td>\n      <td>0</td>\n      <td>...</td>\n      <td>0</td>\n      <td>0</td>\n    </tr>\n    <tr>\n      <th>9996</th>\n      <td>9996</td>\n      <td>0</td>\n      <td>...</td>\n      <td>0</td>\n      <td>0</td>\n    </tr>\n    <tr>\n      <th>9997</th>\n      <td>9997</td>\n      <td>0</td>\n      <td>...</td>\n      <td>0</td>\n      <td>0</td>\n    </tr>\n    <tr>\n      <th>9998</th>\n      <td>9998</td>\n      <td>0</td>\n      <td>...</td>\n      <td>1</td>\n      <td>0</td>\n    </tr>\n    <tr>\n      <th>9999</th>\n      <td>9999</td>\n      <td>0</td>\n      <td>...</td>\n      <td>0</td>\n      <td>0</td>\n    </tr>\n  </tbody>\n</table>\n<p>10000 rows × 94 columns</p>\n</div>"
     },
     "metadata": {},
     "execution_count": 3
    }
   ],
   "source": [
    "punk_ohe = pd.read_csv(\"flask-backend/data/cryptopunks_ohe.csv\")\n",
    "punk_ohe"
   ]
  },
  {
   "cell_type": "code",
   "execution_count": 4,
   "metadata": {},
   "outputs": [
    {
     "output_type": "execute_result",
     "data": {
      "text/plain": [
       "                      timestamp    id  ...     block  \\\n",
       "0     2017-06-23 21:05:06+00:00   544  ...   3919706   \n",
       "1     2017-06-23 21:10:32+00:00  3134  ...   3919721   \n",
       "2     2017-06-23 21:46:53+00:00  5056  ...   3919847   \n",
       "3     2017-06-23 21:57:45+00:00  5719  ...   3919887   \n",
       "4     2017-06-23 22:00:12+00:00  6548  ...   3919893   \n",
       "...                         ...   ...  ...       ...   \n",
       "10228 2021-04-05 12:40:33+00:00   717  ...  12179722   \n",
       "10229 2021-04-05 12:46:56+00:00  7909  ...  12179750   \n",
       "10230 2021-04-05 12:56:27+00:00  6021  ...  12179788   \n",
       "10231 2021-04-05 13:09:03+00:00  5535  ...  12179843   \n",
       "10232 2021-04-05 13:20:35+00:00  5070  ...  12179899   \n",
       "\n",
       "                                                      tx  \n",
       "0       0xb28b5f2c186bf534e4fc4b8604b1496c9632e422694...  \n",
       "1       0x65579455ac3227e7b3db72b4e359e988bb16cae6d26...  \n",
       "2       0xd79cca9282c06a0edb8f9426aae734119f0f2ed0d96...  \n",
       "3       0x03c36b107006386b2db0e77667cc3fd4321d0366843...  \n",
       "4       0x85467bb2cbbdbea4542baa0307729e8a8c1a119dcf5...  \n",
       "...                                                  ...  \n",
       "10228   0x409bd12e16ab9ecefa061d893cd8d1231439c2d7b22...  \n",
       "10229   0x07e09105e36acc4920a295f2acd4a6fbcff9c164192...  \n",
       "10230   0x0781d97ddc6ec7ec991ede5c66c294f92fd2e85dc7c...  \n",
       "10231   0x80c396162f33f628e7d901bf6426caa63a39c06d68b...  \n",
       "10232   0x0ae12b20c710bf3b44738f814e0991b8c46ecf69701...  \n",
       "\n",
       "[10233 rows x 8 columns]"
      ],
      "text/html": "<div>\n<style scoped>\n    .dataframe tbody tr th:only-of-type {\n        vertical-align: middle;\n    }\n\n    .dataframe tbody tr th {\n        vertical-align: top;\n    }\n\n    .dataframe thead th {\n        text-align: right;\n    }\n</style>\n<table border=\"1\" class=\"dataframe\">\n  <thead>\n    <tr style=\"text-align: right;\">\n      <th></th>\n      <th>timestamp</th>\n      <th>id</th>\n      <th>...</th>\n      <th>block</th>\n      <th>tx</th>\n    </tr>\n  </thead>\n  <tbody>\n    <tr>\n      <th>0</th>\n      <td>2017-06-23 21:05:06+00:00</td>\n      <td>544</td>\n      <td>...</td>\n      <td>3919706</td>\n      <td>0xb28b5f2c186bf534e4fc4b8604b1496c9632e422694...</td>\n    </tr>\n    <tr>\n      <th>1</th>\n      <td>2017-06-23 21:10:32+00:00</td>\n      <td>3134</td>\n      <td>...</td>\n      <td>3919721</td>\n      <td>0x65579455ac3227e7b3db72b4e359e988bb16cae6d26...</td>\n    </tr>\n    <tr>\n      <th>2</th>\n      <td>2017-06-23 21:46:53+00:00</td>\n      <td>5056</td>\n      <td>...</td>\n      <td>3919847</td>\n      <td>0xd79cca9282c06a0edb8f9426aae734119f0f2ed0d96...</td>\n    </tr>\n    <tr>\n      <th>3</th>\n      <td>2017-06-23 21:57:45+00:00</td>\n      <td>5719</td>\n      <td>...</td>\n      <td>3919887</td>\n      <td>0x03c36b107006386b2db0e77667cc3fd4321d0366843...</td>\n    </tr>\n    <tr>\n      <th>4</th>\n      <td>2017-06-23 22:00:12+00:00</td>\n      <td>6548</td>\n      <td>...</td>\n      <td>3919893</td>\n      <td>0x85467bb2cbbdbea4542baa0307729e8a8c1a119dcf5...</td>\n    </tr>\n    <tr>\n      <th>...</th>\n      <td>...</td>\n      <td>...</td>\n      <td>...</td>\n      <td>...</td>\n      <td>...</td>\n    </tr>\n    <tr>\n      <th>10228</th>\n      <td>2021-04-05 12:40:33+00:00</td>\n      <td>717</td>\n      <td>...</td>\n      <td>12179722</td>\n      <td>0x409bd12e16ab9ecefa061d893cd8d1231439c2d7b22...</td>\n    </tr>\n    <tr>\n      <th>10229</th>\n      <td>2021-04-05 12:46:56+00:00</td>\n      <td>7909</td>\n      <td>...</td>\n      <td>12179750</td>\n      <td>0x07e09105e36acc4920a295f2acd4a6fbcff9c164192...</td>\n    </tr>\n    <tr>\n      <th>10230</th>\n      <td>2021-04-05 12:56:27+00:00</td>\n      <td>6021</td>\n      <td>...</td>\n      <td>12179788</td>\n      <td>0x0781d97ddc6ec7ec991ede5c66c294f92fd2e85dc7c...</td>\n    </tr>\n    <tr>\n      <th>10231</th>\n      <td>2021-04-05 13:09:03+00:00</td>\n      <td>5535</td>\n      <td>...</td>\n      <td>12179843</td>\n      <td>0x80c396162f33f628e7d901bf6426caa63a39c06d68b...</td>\n    </tr>\n    <tr>\n      <th>10232</th>\n      <td>2021-04-05 13:20:35+00:00</td>\n      <td>5070</td>\n      <td>...</td>\n      <td>12179899</td>\n      <td>0x0ae12b20c710bf3b44738f814e0991b8c46ecf69701...</td>\n    </tr>\n  </tbody>\n</table>\n<p>10233 rows × 8 columns</p>\n</div>"
     },
     "metadata": {},
     "execution_count": 4
    }
   ],
   "source": [
    "punk_sales = pd.read_csv(\"flask-backend/data/punks_sales.csv\", parse_dates=['timestamp'])\n",
    "punk_sales.columns = punk_sales.columns.str.strip()\n",
    "punk_sales"
   ]
  },
  {
   "cell_type": "code",
   "execution_count": 5,
   "metadata": {},
   "outputs": [
    {
     "output_type": "execute_result",
     "data": {
      "text/plain": [
       "                      timestamp    id  ...     block  \\\n",
       "2     2017-06-23 21:46:53+00:00  5056  ...   3919847   \n",
       "16    2017-06-23 23:26:08+00:00  6318  ...   3920190   \n",
       "17    2017-06-23 23:31:47+00:00  4641  ...   3920204   \n",
       "25    2017-06-24 02:08:08+00:00  5921  ...   3920750   \n",
       "27    2017-06-24 10:48:15+00:00  5138  ...   3922521   \n",
       "...                         ...   ...  ...       ...   \n",
       "10228 2021-04-05 12:40:33+00:00   717  ...  12179722   \n",
       "10229 2021-04-05 12:46:56+00:00  7909  ...  12179750   \n",
       "10230 2021-04-05 12:56:27+00:00  6021  ...  12179788   \n",
       "10231 2021-04-05 13:09:03+00:00  5535  ...  12179843   \n",
       "10232 2021-04-05 13:20:35+00:00  5070  ...  12179899   \n",
       "\n",
       "                                                      tx  \n",
       "2       0xd79cca9282c06a0edb8f9426aae734119f0f2ed0d96...  \n",
       "16      0xfbf5a9f6097407f49ce579ca1a74a309f88eeb9fe97...  \n",
       "17      0x9ba97a949d47a54ddfe625d5d1cb4bb581a391a628d...  \n",
       "25      0x47612c75f711e13e171aff858a6a499455296a023e8...  \n",
       "27      0x26671b51f04a013dc15cd7ac6dfd930e6bcccb69513...  \n",
       "...                                                  ...  \n",
       "10228   0x409bd12e16ab9ecefa061d893cd8d1231439c2d7b22...  \n",
       "10229   0x07e09105e36acc4920a295f2acd4a6fbcff9c164192...  \n",
       "10230   0x0781d97ddc6ec7ec991ede5c66c294f92fd2e85dc7c...  \n",
       "10231   0x80c396162f33f628e7d901bf6426caa63a39c06d68b...  \n",
       "10232   0x0ae12b20c710bf3b44738f814e0991b8c46ecf69701...  \n",
       "\n",
       "[5094 rows x 8 columns]"
      ],
      "text/html": "<div>\n<style scoped>\n    .dataframe tbody tr th:only-of-type {\n        vertical-align: middle;\n    }\n\n    .dataframe tbody tr th {\n        vertical-align: top;\n    }\n\n    .dataframe thead th {\n        text-align: right;\n    }\n</style>\n<table border=\"1\" class=\"dataframe\">\n  <thead>\n    <tr style=\"text-align: right;\">\n      <th></th>\n      <th>timestamp</th>\n      <th>id</th>\n      <th>...</th>\n      <th>block</th>\n      <th>tx</th>\n    </tr>\n  </thead>\n  <tbody>\n    <tr>\n      <th>2</th>\n      <td>2017-06-23 21:46:53+00:00</td>\n      <td>5056</td>\n      <td>...</td>\n      <td>3919847</td>\n      <td>0xd79cca9282c06a0edb8f9426aae734119f0f2ed0d96...</td>\n    </tr>\n    <tr>\n      <th>16</th>\n      <td>2017-06-23 23:26:08+00:00</td>\n      <td>6318</td>\n      <td>...</td>\n      <td>3920190</td>\n      <td>0xfbf5a9f6097407f49ce579ca1a74a309f88eeb9fe97...</td>\n    </tr>\n    <tr>\n      <th>17</th>\n      <td>2017-06-23 23:31:47+00:00</td>\n      <td>4641</td>\n      <td>...</td>\n      <td>3920204</td>\n      <td>0x9ba97a949d47a54ddfe625d5d1cb4bb581a391a628d...</td>\n    </tr>\n    <tr>\n      <th>25</th>\n      <td>2017-06-24 02:08:08+00:00</td>\n      <td>5921</td>\n      <td>...</td>\n      <td>3920750</td>\n      <td>0x47612c75f711e13e171aff858a6a499455296a023e8...</td>\n    </tr>\n    <tr>\n      <th>27</th>\n      <td>2017-06-24 10:48:15+00:00</td>\n      <td>5138</td>\n      <td>...</td>\n      <td>3922521</td>\n      <td>0x26671b51f04a013dc15cd7ac6dfd930e6bcccb69513...</td>\n    </tr>\n    <tr>\n      <th>...</th>\n      <td>...</td>\n      <td>...</td>\n      <td>...</td>\n      <td>...</td>\n      <td>...</td>\n    </tr>\n    <tr>\n      <th>10228</th>\n      <td>2021-04-05 12:40:33+00:00</td>\n      <td>717</td>\n      <td>...</td>\n      <td>12179722</td>\n      <td>0x409bd12e16ab9ecefa061d893cd8d1231439c2d7b22...</td>\n    </tr>\n    <tr>\n      <th>10229</th>\n      <td>2021-04-05 12:46:56+00:00</td>\n      <td>7909</td>\n      <td>...</td>\n      <td>12179750</td>\n      <td>0x07e09105e36acc4920a295f2acd4a6fbcff9c164192...</td>\n    </tr>\n    <tr>\n      <th>10230</th>\n      <td>2021-04-05 12:56:27+00:00</td>\n      <td>6021</td>\n      <td>...</td>\n      <td>12179788</td>\n      <td>0x0781d97ddc6ec7ec991ede5c66c294f92fd2e85dc7c...</td>\n    </tr>\n    <tr>\n      <th>10231</th>\n      <td>2021-04-05 13:09:03+00:00</td>\n      <td>5535</td>\n      <td>...</td>\n      <td>12179843</td>\n      <td>0x80c396162f33f628e7d901bf6426caa63a39c06d68b...</td>\n    </tr>\n    <tr>\n      <th>10232</th>\n      <td>2021-04-05 13:20:35+00:00</td>\n      <td>5070</td>\n      <td>...</td>\n      <td>12179899</td>\n      <td>0x0ae12b20c710bf3b44738f814e0991b8c46ecf69701...</td>\n    </tr>\n  </tbody>\n</table>\n<p>5094 rows × 8 columns</p>\n</div>"
     },
     "metadata": {},
     "execution_count": 5
    }
   ],
   "source": [
    "last_sales = punk_sales.sort_values(by=['timestamp']).drop_duplicates(subset='id', keep='last')\n",
    "last_sales"
   ]
  },
  {
   "cell_type": "code",
   "execution_count": 6,
   "metadata": {},
   "outputs": [
    {
     "output_type": "execute_result",
     "data": {
      "text/plain": [
       "                             id price (in eth)  ... Wild_White_Hair None\n",
       "timestamp                                       ...                     \n",
       "2017-06-23 21:46:53+00:00  5056            0.1  ...               0    0\n",
       "2017-06-23 23:26:08+00:00  6318          0.107  ...               0    0\n",
       "2017-06-23 23:31:47+00:00  4641            0.2  ...               0    0\n",
       "2017-06-24 02:08:08+00:00  5921           0.36  ...               0    0\n",
       "2017-06-24 10:48:15+00:00  5138            0.5  ...               0    0\n",
       "...                         ...            ...  ...             ...  ...\n",
       "2021-04-05 12:40:33+00:00   717          15.99  ...               0    0\n",
       "2021-04-05 12:46:56+00:00  7909           16.0  ...               0    0\n",
       "2021-04-05 12:56:27+00:00  6021           17.0  ...               0    0\n",
       "2021-04-05 13:09:03+00:00  5535           15.0  ...               0    0\n",
       "2021-04-05 13:20:35+00:00  5070           15.4  ...               0    0\n",
       "\n",
       "[5094 rows x 100 columns]"
      ],
      "text/html": "<div>\n<style scoped>\n    .dataframe tbody tr th:only-of-type {\n        vertical-align: middle;\n    }\n\n    .dataframe tbody tr th {\n        vertical-align: top;\n    }\n\n    .dataframe thead th {\n        text-align: right;\n    }\n</style>\n<table border=\"1\" class=\"dataframe\">\n  <thead>\n    <tr style=\"text-align: right;\">\n      <th></th>\n      <th>id</th>\n      <th>price (in eth)</th>\n      <th>...</th>\n      <th>Wild_White_Hair</th>\n      <th>None</th>\n    </tr>\n    <tr>\n      <th>timestamp</th>\n      <th></th>\n      <th></th>\n      <th></th>\n      <th></th>\n      <th></th>\n    </tr>\n  </thead>\n  <tbody>\n    <tr>\n      <th>2017-06-23 21:46:53+00:00</th>\n      <td>5056</td>\n      <td>0.1</td>\n      <td>...</td>\n      <td>0</td>\n      <td>0</td>\n    </tr>\n    <tr>\n      <th>2017-06-23 23:26:08+00:00</th>\n      <td>6318</td>\n      <td>0.107</td>\n      <td>...</td>\n      <td>0</td>\n      <td>0</td>\n    </tr>\n    <tr>\n      <th>2017-06-23 23:31:47+00:00</th>\n      <td>4641</td>\n      <td>0.2</td>\n      <td>...</td>\n      <td>0</td>\n      <td>0</td>\n    </tr>\n    <tr>\n      <th>2017-06-24 02:08:08+00:00</th>\n      <td>5921</td>\n      <td>0.36</td>\n      <td>...</td>\n      <td>0</td>\n      <td>0</td>\n    </tr>\n    <tr>\n      <th>2017-06-24 10:48:15+00:00</th>\n      <td>5138</td>\n      <td>0.5</td>\n      <td>...</td>\n      <td>0</td>\n      <td>0</td>\n    </tr>\n    <tr>\n      <th>...</th>\n      <td>...</td>\n      <td>...</td>\n      <td>...</td>\n      <td>...</td>\n      <td>...</td>\n    </tr>\n    <tr>\n      <th>2021-04-05 12:40:33+00:00</th>\n      <td>717</td>\n      <td>15.99</td>\n      <td>...</td>\n      <td>0</td>\n      <td>0</td>\n    </tr>\n    <tr>\n      <th>2021-04-05 12:46:56+00:00</th>\n      <td>7909</td>\n      <td>16.0</td>\n      <td>...</td>\n      <td>0</td>\n      <td>0</td>\n    </tr>\n    <tr>\n      <th>2021-04-05 12:56:27+00:00</th>\n      <td>6021</td>\n      <td>17.0</td>\n      <td>...</td>\n      <td>0</td>\n      <td>0</td>\n    </tr>\n    <tr>\n      <th>2021-04-05 13:09:03+00:00</th>\n      <td>5535</td>\n      <td>15.0</td>\n      <td>...</td>\n      <td>0</td>\n      <td>0</td>\n    </tr>\n    <tr>\n      <th>2021-04-05 13:20:35+00:00</th>\n      <td>5070</td>\n      <td>15.4</td>\n      <td>...</td>\n      <td>0</td>\n      <td>0</td>\n    </tr>\n  </tbody>\n</table>\n<p>5094 rows × 100 columns</p>\n</div>"
     },
     "metadata": {},
     "execution_count": 6
    }
   ],
   "source": [
    "df = pd.merge(last_sales, punk_ohe)\n",
    "df.set_index('timestamp', inplace=True)\n",
    "df"
   ]
  },
  {
   "cell_type": "code",
   "execution_count": 7,
   "metadata": {},
   "outputs": [],
   "source": [
    "to_drop = ['tx', 'to', 'from', 'price (in wei)']\n",
    "df = df.drop(columns=to_drop)\n",
    "df['price (in eth)'] = pd.to_numeric(df['price (in eth)'], errors='coerce')\n",
    "df['price (in eth)'] = np.nan_to_num(df['price (in eth)'])"
   ]
  },
  {
   "cell_type": "code",
   "execution_count": 9,
   "metadata": {},
   "outputs": [
    {
     "output_type": "stream",
     "name": "stdout",
     "text": [
      "<class 'pandas.core.frame.DataFrame'>\nDatetimeIndex: 5094 entries, 2017-06-23 21:46:53+00:00 to 2021-04-05 13:20:35+00:00\nData columns (total 96 columns):\n #   Column                Non-Null Count  Dtype  \n---  ------                --------------  -----  \n 0   id                    5094 non-null   int64  \n 1   price (in eth)        5094 non-null   float64\n 2   block                 5094 non-null   int64  \n 3   Alien                 5094 non-null   int64  \n 4   Ape                   5094 non-null   int64  \n 5   Female                5094 non-null   int64  \n 6   Male                  5094 non-null   int64  \n 7   Zombie                5094 non-null   int64  \n 8   3D_Glasses            5094 non-null   int64  \n 9   Bandana               5094 non-null   int64  \n 10  Beanie                5094 non-null   int64  \n 11  Big_Beard             5094 non-null   int64  \n 12  Big_Shades            5094 non-null   int64  \n 13  Black_Lipstick        5094 non-null   int64  \n 14  Blonde_Bob            5094 non-null   int64  \n 15  Blonde_Short          5094 non-null   int64  \n 16  Blue_Eye_Shadow       5094 non-null   int64  \n 17  Buck_Teeth            5094 non-null   int64  \n 18  Cap                   5094 non-null   int64  \n 19  Cap_Forward           5094 non-null   int64  \n 20  Chinstrap             5094 non-null   int64  \n 21  Choker                5094 non-null   int64  \n 22  Cigarette             5094 non-null   int64  \n 23  Classic_Shades        5094 non-null   int64  \n 24  Clown_Eyes_Blue       5094 non-null   int64  \n 25  Clown_Eyes_Green      5094 non-null   int64  \n 26  Clown_Hair_Green      5094 non-null   int64  \n 27  Clown_Nose            5094 non-null   int64  \n 28  Cowboy_Hat            5094 non-null   int64  \n 29  Crazy_Hair            5094 non-null   int64  \n 30  Dark_Hair             5094 non-null   int64  \n 31  Do-rag                5094 non-null   int64  \n 32  Earring               5094 non-null   int64  \n 33  Eye_Mask              5094 non-null   int64  \n 34  Eye_Patch             5094 non-null   int64  \n 35  Fedora                5094 non-null   int64  \n 36  Front_Beard           5094 non-null   int64  \n 37  Front_Beard_Dark      5094 non-null   int64  \n 38  Frown                 5094 non-null   int64  \n 39  Frumpy_Hair           5094 non-null   int64  \n 40  Goat                  5094 non-null   int64  \n 41  Gold_Chain            5094 non-null   int64  \n 42  Green_Eye_Shadow      5094 non-null   int64  \n 43  Half_Shaved           5094 non-null   int64  \n 44  Handlebars            5094 non-null   int64  \n 45  Headband              5094 non-null   int64  \n 46  Hoodie                5094 non-null   int64  \n 47  Horned_Rim_Glasses    5094 non-null   int64  \n 48  Hot_Lipstick          5094 non-null   int64  \n 49  Knitted_Cap           5094 non-null   int64  \n 50  Luxurious_Beard       5094 non-null   int64  \n 51  Medical_Mask          5094 non-null   int64  \n 52  Messy_Hair            5094 non-null   int64  \n 53  Mohawk                5094 non-null   int64  \n 54  Mohawk_Dark           5094 non-null   int64  \n 55  Mohawk_Thin           5094 non-null   int64  \n 56  Mole                  5094 non-null   int64  \n 57  Mustache              5094 non-null   int64  \n 58  Muttonchops           5094 non-null   int64  \n 59  Nerd_Glasses          5094 non-null   int64  \n 60  Normal_Beard          5094 non-null   int64  \n 61  Normal_Beard_Black    5094 non-null   int64  \n 62  Orange_Side           5094 non-null   int64  \n 63  Peak_Spike            5094 non-null   int64  \n 64  Pigtails              5094 non-null   int64  \n 65  Pilot_Helmet          5094 non-null   int64  \n 66  Pink_With_Hat         5094 non-null   int64  \n 67  Pipe                  5094 non-null   int64  \n 68  Police_Cap            5094 non-null   int64  \n 69  Purple_Eye_Shadow     5094 non-null   int64  \n 70  Purple_Hair           5094 non-null   int64  \n 71  Purple_Lipstick       5094 non-null   int64  \n 72  Red_Mohawk            5094 non-null   int64  \n 73  Regular_Shades        5094 non-null   int64  \n 74  Rosy_Cheeks           5094 non-null   int64  \n 75  Shadow_Beard          5094 non-null   int64  \n 76  Shaved_Head           5094 non-null   int64  \n 77  Silver_Chain          5094 non-null   int64  \n 78  Small_Shades          5094 non-null   int64  \n 79  Smile                 5094 non-null   int64  \n 80  Spots                 5094 non-null   int64  \n 81  Straight_Hair         5094 non-null   int64  \n 82  Straight_Hair_Blonde  5094 non-null   int64  \n 83  Straight_Hair_Dark    5094 non-null   int64  \n 84  Stringy_Hair          5094 non-null   int64  \n 85  Tassle_Hat            5094 non-null   int64  \n 86  Tiara                 5094 non-null   int64  \n 87  Top_Hat               5094 non-null   int64  \n 88  VR                    5094 non-null   int64  \n 89  Vampire_Hair          5094 non-null   int64  \n 90  Vape                  5094 non-null   int64  \n 91  Welding_Goggles       5094 non-null   int64  \n 92  Wild_Blonde           5094 non-null   int64  \n 93  Wild_Hair             5094 non-null   int64  \n 94  Wild_White_Hair       5094 non-null   int64  \n 95  None                  5094 non-null   int64  \ndtypes: float64(1), int64(95)\nmemory usage: 3.8 MB\n"
     ]
    }
   ],
   "source": [
    "df.info()"
   ]
  },
  {
   "cell_type": "code",
   "execution_count": 10,
   "metadata": {},
   "outputs": [],
   "source": [
    "# target and features\n",
    "target = 'price (in eth)'\n",
    "\n",
    "X = df.drop(columns=target)\n",
    "y = df[target]\n",
    "\n",
    "# split the data\n",
    "X_train, X_test, y_train, y_test = train_test_split(X, y, train_size=0.75 ,random_state=11)"
   ]
  },
  {
   "cell_type": "code",
   "execution_count": 11,
   "metadata": {},
   "outputs": [
    {
     "output_type": "execute_result",
     "data": {
      "text/plain": [
       "16.52728361281986"
      ]
     },
     "metadata": {},
     "execution_count": 11
    }
   ],
   "source": [
    "#mean of prices to create a line\n",
    "y_pred = [y.mean()] * len(y)\n",
    "\n",
    "#sklearn function to find mean abs error\n",
    "mean_absolute_error(y, y_pred)"
   ]
  },
  {
   "cell_type": "code",
   "execution_count": 12,
   "metadata": {},
   "outputs": [],
   "source": [
    "#Sklean function for linear regression\n",
    "model_lr = make_pipeline(\n",
    "    StandardScaler(),\n",
    "    LinearRegression()\n",
    ")\n",
    "model_lr.fit(X_train, y_train);"
   ]
  },
  {
   "cell_type": "code",
   "execution_count": 13,
   "metadata": {},
   "outputs": [
    {
     "output_type": "stream",
     "name": "stdout",
     "text": [
      "training MAE: 16.057283484073217\ntest MAE: 16.6281721396491\n"
     ]
    }
   ],
   "source": [
    "print('training MAE:', mean_absolute_error(y_train, model_lr.predict(X_train)))\n",
    "print('test MAE:', mean_absolute_error(y_test, model_lr.predict(X_test)))"
   ]
  },
  {
   "cell_type": "code",
   "execution_count": 15,
   "metadata": {},
   "outputs": [
    {
     "output_type": "stream",
     "name": "stdout",
     "text": [
      "Linear Regression R^2: -1.7490471154147529\n"
     ]
    }
   ],
   "source": [
    "'''T9: Compare model metrics, R^2.'''\n",
    "model_lr_r2_score = model_lr.score(X_test, y_test)\n",
    "print('Linear Regression R^2:', model_lr_r2_score)"
   ]
  },
  {
   "cell_type": "code",
   "execution_count": 18,
   "metadata": {},
   "outputs": [
    {
     "output_type": "execute_result",
     "data": {
      "text/plain": [
       "array([  4.92926327,  10.47770557,  17.09888353, ..., -10.93160804,\n",
       "        20.65488058,  17.98977373])"
      ]
     },
     "metadata": {},
     "execution_count": 18
    }
   ],
   "source": [
    "y_pred = model_lr.predict(X_test)\n",
    "y_pred"
   ]
  },
  {
   "cell_type": "code",
   "execution_count": 20,
   "metadata": {},
   "outputs": [
    {
     "output_type": "stream",
     "name": "stdout",
     "text": [
      "Test Accuracy:  -1.7490471154147529\n"
     ]
    }
   ],
   "source": [
    "print('Test Accuracy: ', model_lr.score(X_test, y_test))"
   ]
  },
  {
   "cell_type": "code",
   "execution_count": 18,
   "metadata": {},
   "outputs": [],
   "source": [
    "# Define a function that compares the CV perfromance of a set of predetrmined models \n",
    "def cv_comparison(models, X, y, cv):\n",
    "    # Initiate a DataFrame for the averages and a list for all measures\n",
    "    cv_accuracies = pd.DataFrame()\n",
    "    maes = []\n",
    "    mses = []\n",
    "    r2s = []\n",
    "    accs = []\n",
    "    # Loop through the models, run a CV, add the average scores to the DataFrame and the scores of \n",
    "    # all CVs to the list\n",
    "    for model in models:\n",
    "        mae = -np.round(cross_val_score(model, X, y, scoring='neg_mean_absolute_error', cv=cv), 4)\n",
    "        maes.append(mae)\n",
    "        mae_avg = round(mae.mean(), 4)\n",
    "        mse = -np.round(cross_val_score(model, X, y, scoring='neg_mean_squared_error', cv=cv), 4)\n",
    "        mses.append(mse)\n",
    "        mse_avg = round(mse.mean(), 4)\n",
    "        r2 = np.round(cross_val_score(model, X, y, scoring='r2', cv=cv), 4)\n",
    "        r2s.append(r2)\n",
    "        r2_avg = round(r2.mean(), 4)\n",
    "        acc = np.round((100 - (100 * (mae * len(X))) / sum(y)), 4)\n",
    "        accs.append(acc)\n",
    "        acc_avg = round(acc.mean(), 4)\n",
    "        cv_accuracies[str(model)] = [mae_avg, mse_avg, r2_avg, acc_avg]\n",
    "    cv_accuracies.index = ['Mean Absolute Error', 'Mean Squared Error', 'R^2', 'Accuracy']\n",
    "    return cv_accuracies, maes, mses, r2s, accs"
   ]
  },
  {
   "cell_type": "code",
   "execution_count": 19,
   "metadata": {},
   "outputs": [],
   "source": [
    "# Create the models to be tested\n",
    "mlr_reg = LinearRegression()\n",
    "rf_reg = RandomForestRegressor(random_state=42)\n",
    "xgb_reg = xgb_regressor = xgb.XGBRegressor(random_state=42)\n",
    "\n",
    "# Put the models in a list to be used for Cross-Validation\n",
    "models = [mlr_reg, rf_reg, xgb_reg]\n",
    "\n",
    "# Run the Cross-Validation comparison with the models used in this analysis\n",
    "comp, maes, mses, r2s, accs = cv_comparison(models, X_train, y_train, 4)"
   ]
  },
  {
   "cell_type": "code",
   "execution_count": 20,
   "metadata": {},
   "outputs": [
    {
     "output_type": "execute_result",
     "data": {
      "text/plain": [
       "                                                    1st Fold  2nd Fold  3rd Fold  4th Fold  \\\n",
       "LinearRegression(copy_X=True, fit_intercept=Tru... -146.6534    0.4424    0.4085   -0.0552   \n",
       "RandomForestRegressor(bootstrap=True, ccp_alpha... -117.2811    0.5172    0.3636    0.4500   \n",
       "XGBRegressor(base_score=None, booster=None, col... -147.8130    0.0120    0.0235    0.4291   \n",
       "\n",
       "                                                    Average  \n",
       "LinearRegression(copy_X=True, fit_intercept=Tru... -36.4644  \n",
       "RandomForestRegressor(bootstrap=True, ccp_alpha... -28.9876  \n",
       "XGBRegressor(base_score=None, booster=None, col... -36.8371  "
      ],
      "text/html": "<div>\n<style scoped>\n    .dataframe tbody tr th:only-of-type {\n        vertical-align: middle;\n    }\n\n    .dataframe tbody tr th {\n        vertical-align: top;\n    }\n\n    .dataframe thead th {\n        text-align: right;\n    }\n</style>\n<table border=\"1\" class=\"dataframe\">\n  <thead>\n    <tr style=\"text-align: right;\">\n      <th></th>\n      <th>1st Fold</th>\n      <th>2nd Fold</th>\n      <th>3rd Fold</th>\n      <th>4th Fold</th>\n      <th>Average</th>\n    </tr>\n  </thead>\n  <tbody>\n    <tr>\n      <th>LinearRegression(copy_X=True, fit_intercept=True, n_jobs=None, normalize=False)</th>\n      <td>-146.6534</td>\n      <td>0.4424</td>\n      <td>0.4085</td>\n      <td>-0.0552</td>\n      <td>-36.4644</td>\n    </tr>\n    <tr>\n      <th>RandomForestRegressor(bootstrap=True, ccp_alpha=0.0, criterion='mse',\\n                      max_depth=None, max_features='auto', max_leaf_nodes=None,\\n                      max_samples=None, min_impurity_decrease=0.0,\\n                      min_impurity_split=None, min_samples_leaf=1,\\n                      min_samples_split=2, min_weight_fraction_leaf=0.0,\\n                      n_estimators=100, n_jobs=None, oob_score=False,\\n                      random_state=42, verbose=0, warm_start=False)</th>\n      <td>-117.2811</td>\n      <td>0.5172</td>\n      <td>0.3636</td>\n      <td>0.4500</td>\n      <td>-28.9876</td>\n    </tr>\n    <tr>\n      <th>XGBRegressor(base_score=None, booster=None, colsample_bylevel=None,\\n             colsample_bynode=None, colsample_bytree=None, gamma=None,\\n             gpu_id=None, importance_type='gain', interaction_constraints=None,\\n             learning_rate=None, max_delta_step=None, max_depth=None,\\n             min_child_weight=None, missing=nan, monotone_constraints=None,\\n             n_estimators=100, n_jobs=None, num_parallel_tree=None,\\n             objective='reg:squarederror', random_state=42, reg_alpha=None,\\n             reg_lambda=None, scale_pos_weight=None, subsample=None,\\n             tree_method=None, validate_parameters=None, verbosity=None)</th>\n      <td>-147.8130</td>\n      <td>0.0120</td>\n      <td>0.0235</td>\n      <td>0.4291</td>\n      <td>-36.8371</td>\n    </tr>\n  </tbody>\n</table>\n</div>"
     },
     "metadata": {},
     "execution_count": 20
    }
   ],
   "source": [
    "# Create DataFrame for all R^2s\n",
    "r2_comp = pd.DataFrame(r2s, index=comp.columns, columns=['1st Fold', '2nd Fold', '3rd Fold', \n",
    "                                                         '4th Fold'])\n",
    "\n",
    "# Add a column for the averages\n",
    "r2_comp['Average'] = np.round(r2_comp.mean(axis=1),4)\n",
    "r2_comp"
   ]
  },
  {
   "cell_type": "code",
   "execution_count": 21,
   "metadata": {},
   "outputs": [],
   "source": [
    "# Number of trees in Random Forest\n",
    "rf_n_estimators = [int(x) for x in np.linspace(200, 1000, 5)]\n",
    "rf_n_estimators.append(1500)\n",
    "rf_n_estimators.append(2000)\n",
    "\n",
    "# Maximum number of levels in tree\n",
    "rf_max_depth = [int(x) for x in np.linspace(5, 55, 11)]\n",
    "# Add the default as a possible value\n",
    "rf_max_depth.append(None)\n",
    "\n",
    "# Number of features to consider at every split\n",
    "rf_max_features = ['auto', 'sqrt', 'log2']\n",
    "\n",
    "# Criterion to split on\n",
    "rf_criterion = ['mse', 'mae']\n",
    "\n",
    "# Minimum number of samples required to split a node\n",
    "rf_min_samples_split = [int(x) for x in np.linspace(2, 10, 9)]\n",
    "\n",
    "# Minimum decrease in impurity required for split to happen\n",
    "rf_min_impurity_decrease = [0.0, 0.05, 0.1]\n",
    "\n",
    "# Method of selecting samples for training each tree\n",
    "rf_bootstrap = [True, False]\n",
    "\n",
    "# Create the grid\n",
    "rf_grid = {'n_estimators': rf_n_estimators,\n",
    "               'max_depth': rf_max_depth,\n",
    "               'max_features': rf_max_features,\n",
    "               'criterion': rf_criterion,\n",
    "               'min_samples_split': rf_min_samples_split,\n",
    "               'min_impurity_decrease': rf_min_impurity_decrease,\n",
    "               'bootstrap': rf_bootstrap}"
   ]
  },
  {
   "cell_type": "code",
   "execution_count": 22,
   "metadata": {},
   "outputs": [
    {
     "output_type": "stream",
     "name": "stdout",
     "text": [
      "Fitting 3 folds for each of 200 candidates, totalling 600 fits\n",
      "[Parallel(n_jobs=-1)]: Using backend LokyBackend with 4 concurrent workers.\n"
     ]
    }
   ],
   "source": [
    "# Create the model to be tuned\n",
    "rf_base = RandomForestRegressor()\n",
    "\n",
    "# Create the random search Random Forest\n",
    "rf_random = RandomizedSearchCV(estimator = rf_base, param_distributions = rf_grid, \n",
    "                               n_iter = 200, cv = 3, verbose = 2, random_state = 42, \n",
    "                               n_jobs = -1)\n",
    "\n",
    "# Fit the random search model\n",
    "rf_random.fit(X_train, y_train)\n",
    "\n",
    "# View the best parameters from the random search\n",
    "rf_random.best_params_"
   ]
  },
  {
   "cell_type": "code",
   "execution_count": null,
   "metadata": {},
   "outputs": [],
   "source": [
    "# Number of trees to be used\n",
    "xgb_n_estimators = [int(x) for x in np.linspace(200, 2000, 10)]\n",
    "\n",
    "# Maximum number of levels in tree\n",
    "xgb_max_depth = [int(x) for x in np.linspace(2, 20, 10)]\n",
    "\n",
    "# Minimum number of instaces needed in each node\n",
    "xgb_min_child_weight = [int(x) for x in np.linspace(1, 10, 10)]\n",
    "\n",
    "# Tree construction algorithm used in XGBoost\n",
    "xgb_tree_method = ['auto', 'exact', 'approx', 'hist', 'gpu_hist']\n",
    "\n",
    "# Learning rate\n",
    "xgb_eta = [x for x in np.linspace(0.1, 0.6, 6)]\n",
    "\n",
    "# Minimum loss reduction required to make further partition\n",
    "xgb_gamma = [int(x) for x in np.linspace(0, 0.5, 6)]\n",
    "\n",
    "# Learning objective used\n",
    "xgb_objective = ['reg:squarederror', 'reg:squaredlogerror']\n",
    "\n",
    "# Create the grid\n",
    "xgb_grid = {'n_estimators': xgb_n_estimators,\n",
    "            'max_depth': xgb_max_depth,\n",
    "            'min_child_weight': xgb_min_child_weight,\n",
    "            'tree_method': xgb_tree_method,\n",
    "            'eta': xgb_eta,\n",
    "            'gamma': xgb_gamma,\n",
    "            'objective': xgb_objective}"
   ]
  },
  {
   "cell_type": "code",
   "execution_count": null,
   "metadata": {},
   "outputs": [],
   "source": [
    "# Create the model to be tuned\n",
    "xgb_base = xgb.XGBRegressor()\n",
    "\n",
    "# Create the random search Random Forest\n",
    "xgb_random = RandomizedSearchCV(estimator = xgb_base, param_distributions = xgb_grid, \n",
    "                                n_iter = 15, cv = 3, verbose = 2, \n",
    "                                random_state = 420, n_jobs = -1)\n",
    "\n",
    "# Fit the random search model\n",
    "xgb_random.fit(X_train, y_train)\n",
    "\n",
    "# Get the optimal parameters\n",
    "xgb_random.best_params_"
   ]
  },
  {
   "cell_type": "code",
   "execution_count": null,
   "metadata": {},
   "outputs": [],
   "source": [
    "# Create the final Multiple Linear Regression\n",
    "mlr_final = LinearRegression()\n",
    "\n",
    "# Create the final Random Forest\n",
    "rf_final = RandomForestRegressor(n_estimators = 100,\n",
    "                                 min_samples_split = 6,\n",
    "                                 min_impurity_decrease = 0.0,\n",
    "                                 max_features = 'sqrt',\n",
    "                                 max_depth = 25,\n",
    "                                 criterion = 'mae',\n",
    "                                 bootstrap = True,\n",
    "                                 random_state = 42)\n",
    "\n",
    "# Create the fnal Extreme Gradient Booster\n",
    "xgb_final = xgb.XGBRegressor(tree_method = 'exact',\n",
    "                         objective = 'reg:squarederror',\n",
    "                         n_estimators = 1600,\n",
    "                         min_child_weight = 6,\n",
    "                         max_depth = 8,\n",
    "                         gamma = 0,\n",
    "                         eta = 0.1,\n",
    "                         random_state = 42)\n",
    "\n",
    "# Train the models using 80% of the original data\n",
    "mlr_final.fit(X_train, y_train)\n",
    "rf_final.fit(X_train, y_train)\n",
    "xgb_final.fit(X_train, y_train)"
   ]
  },
  {
   "cell_type": "code",
   "execution_count": null,
   "metadata": {},
   "outputs": [],
   "source": [
    "# Define a function that compares all final models\n",
    "def final_comparison(models, test_features, test_labels):\n",
    "    scores = pd.DataFrame()\n",
    "    for model in models:\n",
    "        predictions = model.predict(test_features)\n",
    "        mae = round(mean_absolute_error(test_labels, predictions), 4)\n",
    "        mse = round(mean_squared_error(test_labels, predictions), 4)\n",
    "        r2 = round(r2_score(test_labels, predictions), 4)\n",
    "        errors = abs(predictions - test_labels)\n",
    "        mape = 100 * np.mean(errors / test_labels)\n",
    "        accuracy = round(100 - mape, 4)\n",
    "        scores[str(model)] = [mae, mse, r2, accuracy]\n",
    "    scores.index = ['Mean Absolute Error', 'Mean Squared Error', 'R^2', 'Accuracy']\n",
    "    return scores"
   ]
  },
  {
   "cell_type": "code",
   "execution_count": null,
   "metadata": {},
   "outputs": [],
   "source": [
    "# Call the comparison function with the three final models\n",
    "final_scores = final_comparison([mlr_final, rf_final, xgb_final], X_test, y_test)\n",
    "\n",
    "# Adjust the column headers\n",
    "final_scores.columns  = ['Linear Regression', 'Random Forest', 'Extreme Gradient Boosting']"
   ]
  }
 ],
 "metadata": {
  "kernelspec": {
   "name": "python379jvsc74a57bd00600588c3b5f4418cbe7b5ebc6825b479f3bc010269d8b60d75058cdd010adfe",
   "display_name": "Python 3.7.9 64-bit"
  },
  "language_info": {
   "codemirror_mode": {
    "name": "ipython",
    "version": 3
   },
   "file_extension": ".py",
   "mimetype": "text/x-python",
   "name": "python",
   "nbconvert_exporter": "python",
   "pygments_lexer": "ipython3",
   "version": "3.7.9"
  },
  "metadata": {
   "interpreter": {
    "hash": "0600588c3b5f4418cbe7b5ebc6825b479f3bc010269d8b60d75058cdd010adfe"
   }
  },
  "orig_nbformat": 2
 },
 "nbformat": 4,
 "nbformat_minor": 2
}