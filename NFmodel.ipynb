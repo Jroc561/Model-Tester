{
 "metadata": {
  "language_info": {
   "codemirror_mode": {
    "name": "ipython",
    "version": 3
   },
   "file_extension": ".py",
   "mimetype": "text/x-python",
   "name": "python",
   "nbconvert_exporter": "python",
   "pygments_lexer": "ipython3",
   "version": 3
  },
  "orig_nbformat": 2
 },
 "nbformat": 4,
 "nbformat_minor": 2,
 "cells": [
  {
   "source": [
    "Custom.py"
   ],
   "cell_type": "markdown",
   "metadata": {}
  },
  {
   "cell_type": "code",
   "execution_count": null,
   "metadata": {},
   "outputs": [],
   "source": [
    "import pandas as pd"
   ]
  },
  {
   "cell_type": "code",
   "execution_count": null,
   "metadata": {},
   "outputs": [],
   "source": [
    "def cryptoPrices(data):\n",
    "    tokenTicker = data['tokenTicker'].value_counts()\n",
    "    for k,_ in tokenTicker.items():\n",
    "        data[k] = -1\n",
    "        idx = data[data['tokenTicker']==k].index\n",
    "        data[k].loc[idx] = data['cryptoPrice'].loc[idx]\n",
    "        \n",
    "    data.drop(['cryptoPrice', 'tokenTicker'], axis=1, inplace=True)\n",
    "    return data"
   ]
  },
  {
   "cell_type": "code",
   "execution_count": null,
   "metadata": {},
   "outputs": [],
   "source": [
    "def custom_prepare_data(data, target):\n",
    "    # input features available for assetId, blockTimestamp, marketAddress, saleType, and all meta data \n",
    "    # print('All data: ', data.columns)\n",
    "    df = data[[target,'blockTimestamp', 'marketAddress', 'saleType', 'totalDecimalPrice', 'tokenTicker', 'transactionHash']]\n",
    "\n",
    "    # getting meta data\n",
    "    for i in data: \n",
    "        if 'meta.' in i:\n",
    "            df[i] = data[i]\n",
    "\n",
    "    # price \n",
    "    # print('taget nan after: ', df['usdPrice'].isna().sum())\n",
    "    df[target] = df[target].replace(',', '',regex=True)\n",
    "    df[target] = pd.to_numeric(df[target])\n",
    "    \n",
    "    df['totalDecimalPrice'] = df['totalDecimalPrice'].replace(',', '',regex=True)\n",
    "    df['totalDecimalPrice'] = pd.to_numeric(df['totalDecimalPrice'])\n",
    "    \n",
    "    df['totalDecimalPrice'] = df['totalDecimalPrice'].replace(',', '',regex=True)\n",
    "    df['totalDecimalPrice'] = pd.to_numeric(df['totalDecimalPrice'])\n",
    "    df['cryptoPrice'] = df[target]/df['totalDecimalPrice']\n",
    "    df.drop('totalDecimalPrice', axis=1, inplace=True)\n",
    "\n",
    "    df = cryptoPrices(df)\n",
    "    # date time \n",
    "    df['blockTimestamp'] = df['blockTimestamp'].str.replace(' @', ',')\n",
    "    # print('Data to train: ', df.columns)\n",
    "    return df"
   ]
  },
  {
   "cell_type": "code",
   "execution_count": null,
   "metadata": {},
   "outputs": [],
   "source": [
    "def custom_impute_missing_data(data): \n",
    "    '''\n",
    "    OBJECTIVE\n",
    "        Impute missing values of meta data. If the value is NaN, it can be replaced \n",
    "        by 'not_provided' if it is categorical feature. So a numerical feat can be imputed\n",
    "        with an extreme value '999999999' to catch the signal of the missing value. \n",
    "\n",
    "    INPUT\n",
    "        data: pandas data frame\n",
    "    \n",
    "    OUTPUT\n",
    "        data \n",
    "    '''\n",
    "    for f in data.columns:\n",
    "        if 'meta.' in f:\n",
    "            if data[f].dtype == 'object':\n",
    "                data[f].fillna('not_provided', inplace=True)\n",
    "            else:\n",
    "                data[f].fillna(999999999, inplace=True)\n",
    "            \n",
    "    \n",
    "    return data"
   ]
  }
 ]
}